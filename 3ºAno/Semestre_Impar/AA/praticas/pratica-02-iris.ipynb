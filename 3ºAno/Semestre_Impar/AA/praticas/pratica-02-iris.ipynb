{
 "cells": [
  {
   "cell_type": "code",
   "execution_count": 1,
   "id": "f9414676",
   "metadata": {},
   "outputs": [
    {
     "name": "stdout",
     "output_type": "stream",
     "text": [
      "iris.keys(): \n",
      "dict_keys(['data', 'target', 'frame', 'target_names', 'DESCR', 'feature_names', 'filename', 'data_module'])\n",
      "Shape of iris data: (150, 4)\n",
      "Sample counts per class:\n",
      "{'setosa': 50, 'versicolor': 50, 'virginica': 50}\n",
      "Feature names:\n",
      "['sepal length (cm)', 'sepal width (cm)', 'petal length (cm)', 'petal width (cm)']\n",
      "Confusion matrix:\n",
      "[[13  0  0]\n",
      " [ 0 15  1]\n",
      " [ 0  0  9]]\n",
      "Test set accuracy: 0.97\n"
     ]
    }
   ],
   "source": [
    "import numpy as np\n",
    "\n",
    "from sklearn.datasets import load_iris\n",
    "\n",
    "from sklearn.model_selection import train_test_split\n",
    "from sklearn.neighbors import KNeighborsClassifier\n",
    "from sklearn.metrics import confusion_matrix\n",
    "\n",
    "iris = load_iris()\n",
    "\n",
    "print(\"iris.keys(): \\n{}\".format(iris.keys()))\n",
    "print(\"Shape of iris data: {}\".format(iris.data.shape))\n",
    "print(\"Sample counts per class:\\n{}\".format(\n",
    "{n: v for n, v in zip(iris.target_names, np.bincount(iris.target))}))\n",
    "print(\"Feature names:\\n{}\".format(iris.feature_names))\n",
    "\n",
    "X_train, X_test, y_train, y_test = train_test_split(iris['data'], iris['target'], random_state=0)\n",
    "\n",
    "knn = KNeighborsClassifier(n_neighbors=1)\n",
    "knn.fit(X_train, y_train)\n",
    "pred_knn = knn.predict(X_test)\n",
    "\n",
    "confusion = confusion_matrix(y_test, pred_knn)\n",
    "print(\"Confusion matrix:\\n{}\".format(confusion))\n",
    "print(\"Test set accuracy: {:.2f}\".format(knn.score(X_test, y_test)))"
   ]
  },
  {
   "cell_type": "code",
   "execution_count": 7,
   "id": "f0cab6ab",
   "metadata": {
    "scrolled": true
   },
   "outputs": [
    {
     "name": "stdout",
     "output_type": "stream",
     "text": [
      "iris.keys(): \n",
      "dict_keys(['data', 'target', 'frame', 'target_names', 'DESCR', 'feature_names', 'filename', 'data_module'])\n",
      "Shape of iris data: (150, 4)\n",
      "Sample counts per class:\n",
      "{'setosa': 50, 'versicolor': 50, 'virginica': 50}\n",
      "Feature names:\n",
      "['sepal length (cm)', 'sepal width (cm)', 'petal length (cm)', 'petal width (cm)']\n",
      "Confusion matrix:\n",
      "[[13  0  0]\n",
      " [ 0 15  1]\n",
      " [ 0  0  9]]\n",
      "Test set accuracy: 0.97\n",
      "Confusion matrix(100 Samples):\n",
      "[[13  0  0]\n",
      " [ 0 15  1]\n",
      " [ 0  0  9]]\n",
      "Test set accuracy: 0.97\n",
      "Confusion matrix(80 Samples):\n",
      "[[13  0  0]\n",
      " [ 0 15  1]\n",
      " [ 0  0  9]]\n",
      "Test set accuracy: 0.97\n",
      "Confusion matrix(60 Samples):\n",
      "[[13  0  0]\n",
      " [ 0 15  1]\n",
      " [ 0  0  9]]\n",
      "Test set accuracy: 0.97\n",
      "Confusion matrix(40 Samples):\n",
      "[[13  0  0]\n",
      " [ 0 15  1]\n",
      " [ 0  0  9]]\n",
      "Test set accuracy: 0.97\n",
      "Confusion matrix(20 Samples):\n",
      "[[13  0  0]\n",
      " [ 0 15  1]\n",
      " [ 0  0  9]]\n",
      "Test set accuracy: 0.97\n"
     ]
    }
   ],
   "source": [
    "import numpy as np\n",
    "\n",
    "from sklearn.datasets import load_iris\n",
    "\n",
    "from sklearn.model_selection import train_test_split\n",
    "from sklearn.neighbors import KNeighborsClassifier\n",
    "from sklearn.metrics import confusion_matrix\n",
    "from sklearn.utils import resample\n",
    "\n",
    "import matplotlib\n",
    "\n",
    "\n",
    "iris = load_iris()\n",
    "\n",
    "print(\"iris.keys(): \\n{}\".format(iris.keys()))\n",
    "print(\"Shape of iris data: {}\".format(iris.data.shape))\n",
    "print(\"Sample counts per class:\\n{}\".format(\n",
    "{n: v for n, v in zip(iris.target_names, np.bincount(iris.target))}))\n",
    "print(\"Feature names:\\n{}\".format(iris.feature_names))\n",
    "\n",
    "X_train, X_test, y_train, y_test = train_test_split(iris['data'], iris['target'], random_state=0)\n",
    "\n",
    "knn = KNeighborsClassifier(n_neighbors=1)\n",
    "knn.fit(X_train, y_train)\n",
    "pred_knn = knn.predict(X_test)\n",
    "\n",
    "confusion = confusion_matrix(y_test, pred_knn)\n",
    "print(\"Confusion matrix:\\n{}\".format(confusion))\n",
    "print(\"Test set accuracy: {:.2f}\".format(knn.score(X_test, y_test)))\n",
    "\n",
    "\n",
    "# resample 100\n",
    "X_train2, y_train2 = resample(X_train, y_train, n_samples=100)\n",
    "knn2 = KNeighborsClassifier(n_neighbors=1)\n",
    "knn2.fit(X_train2, y_train2)\n",
    "pred_knn2 = knn2.predict(X_test)\n",
    "confusion2 = confusion_matrix(y_test, pred_knn2)\n",
    "\n",
    "print(\"Confusion matrix(100 Samples):\\n{}\".format(confusion))\n",
    "print(\"Test set accuracy: {:.2f}\".format(knn.score(X_test, y_test)))\n",
    "\n",
    "# resample 80\n",
    "X_train2, y_train2 = resample(X_train, y_train, n_samples=80)\n",
    "knn2 = KNeighborsClassifier(n_neighbors=1)\n",
    "knn2.fit(X_train2, y_train2)\n",
    "pred_knn2 = knn2.predict(X_test)\n",
    "confusion2 = confusion_matrix(y_test, pred_knn2)\n",
    "\n",
    "print(\"Confusion matrix(80 Samples):\\n{}\".format(confusion))\n",
    "print(\"Test set accuracy: {:.2f}\".format(knn.score(X_test, y_test)))\n",
    "\n",
    "# resample 60\n",
    "X_train2, y_train2 = resample(X_train, y_train, n_samples=60)\n",
    "knn2 = KNeighborsClassifier(n_neighbors=1)\n",
    "knn2.fit(X_train2, y_train2)\n",
    "pred_knn2 = knn2.predict(X_test)\n",
    "confusion2 = confusion_matrix(y_test, pred_knn2)\n",
    "\n",
    "print(\"Confusion matrix(60 Samples):\\n{}\".format(confusion))\n",
    "print(\"Test set accuracy: {:.2f}\".format(knn.score(X_test, y_test)))\n",
    "\n",
    "# resample 40\n",
    "X_train2, y_train2 = resample(X_train, y_train, n_samples=40)\n",
    "knn2 = KNeighborsClassifier(n_neighbors=1)\n",
    "knn2.fit(X_train2, y_train2)\n",
    "pred_knn2 = knn2.predict(X_test)\n",
    "confusion2 = confusion_matrix(y_test, pred_knn2)\n",
    "\n",
    "print(\"Confusion matrix(40 Samples):\\n{}\".format(confusion))\n",
    "print(\"Test set accuracy: {:.2f}\".format(knn.score(X_test, y_test)))\n",
    "\n",
    "# resample 20\n",
    "X_train2, y_train2 = resample(X_train, y_train, n_samples=20)\n",
    "knn2 = KNeighborsClassifier(n_neighbors=1)\n",
    "knn2.fit(X_train2, y_train2)\n",
    "pred_knn2 = knn2.predict(X_test)\n",
    "confusion2 = confusion_matrix(y_test, pred_knn2)\n",
    "\n",
    "print(\"Confusion matrix(20 Samples):\\n{}\".format(confusion))\n",
    "print(\"Test set accuracy: {:.2f}\".format(knn.score(X_test, y_test)))"
   ]
  },
  {
   "cell_type": "code",
   "execution_count": 17,
   "id": "7f111295",
   "metadata": {},
   "outputs": [
    {
     "data": {
      "text/plain": [
       "Text(0, 0.5, 'X_train2')"
      ]
     },
     "execution_count": 17,
     "metadata": {},
     "output_type": "execute_result"
    },
    {
     "data": {
      "image/png": "[encoded data removed]",
      "text/plain": [
       "<Figure size 600x400 with 1 Axes>"
      ]
     },
     "metadata": {},
     "output_type": "display_data"
    }
   ],
   "source": [
    "from tkinter import Y\n",
    "import numpy as np\n",
    "\n",
    "from sklearn.datasets import load_iris\n",
    "\n",
    "from sklearn.model_selection import train_test_split\n",
    "from sklearn.neighbors import KNeighborsClassifier\n",
    "from sklearn.metrics import confusion_matrix\n",
    "from sklearn.naive_bayes import GaussianNB\n",
    "from sklearn.utils import resample\n",
    "\n",
    "import matplotlib.pyplot as plt\n",
    "\n",
    "iris = load_iris()\n",
    "\n",
    "X_train, X_test, y_train, y_test = train_test_split(iris['data'], iris['target'], random_state=0)\n",
    "\n",
    "knn = KNeighborsClassifier(n_neighbors=1)\n",
    "knn.fit(X_train, y_train)\n",
    "pred_knn = knn.predict(X_test)\n",
    "\n",
    "X_trainG, X_testG, y_trainG, y_testG = train_test_split(iris['data'], iris['target'], random_state=0)\n",
    "\n",
    "clf = GaussianNB()\n",
    "clf.fit(X_trainG, y_trainG)\n",
    "pred_clf = clf.predict(X_testG)\n",
    "\n",
    "fig, ax = plt.subplots(figsize=(6, 4), constrained_layout=True)\n",
    "ax.plot(X_test, X_testG)\n",
    "ax.set_xlabel('Xtrain')\n",
    "ax.set_ylabel('X_train2')"
   ]
  }
 ],
 "metadata": {
  "kernelspec": {
   "display_name": "Python 3.10.4 64-bit",
   "language": "python",
   "name": "python3"
  },
  "language_info": {
   "codemirror_mode": {
    "name": "ipython",
    "version": 3
   },
   "file_extension": ".py",
   "mimetype": "text/x-python",
   "name": "python",
   "nbconvert_exporter": "python",
   "pygments_lexer": "ipython3",
   "version": "3.10.6"
  },
  "vscode": {
   "interpreter": {
    "hash": "916dbcbb3f70747c44a77c7bcd40155683ae19c65e1c03b4aa3499c5328201f1"
   }
  }
 },
 "nbformat": 4,
 "nbformat_minor": 5
}
