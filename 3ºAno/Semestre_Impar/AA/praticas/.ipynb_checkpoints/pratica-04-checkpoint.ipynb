{
 "cells": [
  {
   "cell_type": "code",
   "execution_count": 5,
   "metadata": {},
   "outputs": [
    {
     "name": "stdout",
     "output_type": "stream",
     "text": [
      "Confusion Matrix \n",
      " [[ 58   4  37   0]\n",
      " [ 15   4   0   2]\n",
      " [ 14   0 282   0]\n",
      " [  9   0   0   7]]\n",
      "Test set accuracy: 0.81\n",
      "Train set accuracy: 0.87\n"
     ]
    }
   ],
   "source": [
    "import numpy as np\n",
    "import pandas as pd\n",
    "\n",
    "from sklearn.model_selection import train_test_split\n",
    "from sklearn.naive_bayes import CategoricalNB\n",
    "from sklearn import preprocessing\n",
    "from sklearn.metrics import confusion_matrix\n",
    "\n",
    "data = pd.read_csv(\"car.csv\")\n",
    "\n",
    "le = preprocessing.LabelEncoder()\n",
    "data['maint'] = le.fit_transform(data['maint'])\n",
    "data['buying'] = le.fit_transform(data['buying'])\n",
    "data['doors'] = le.fit_transform(data['doors'])\n",
    "data['persons'] = le.fit_transform(data['persons'])\n",
    "data['lug_boot'] = le.fit_transform(data['lug_boot'])\n",
    "data['safety'] = le.fit_transform(data['safety'])\n",
    "\n",
    "X = data.iloc[:, :-1]\n",
    "y = data.iloc[:, -1]\n",
    "\n",
    "X_train, X_test, y_train, y_test = train_test_split(X, y, random_state = 0)\n",
    "\n",
    "clf = CategoricalNB()\n",
    "clf.fit(X_train, y_train)\n",
    "pred_clf = clf.predict(X_test)\n",
    "\n",
    "confusion = confusion_matrix(y_test, pred_clf)\n",
    "print(\"Confusion Matrix \\n {}\".format(confusion))\n",
    "print(\"Test set accuracy: {:.2f}\".format(clf.score(X_test, y_test)))\n",
    "print(\"Train set accuracy: {:.2f}\".format(clf.score(X_train, y_train)))"
   ]
  }
 ],
 "metadata": {
  "kernelspec": {
   "display_name": "Python 3 (ipykernel)",
   "language": "python",
   "name": "python3"
  },
  "language_info": {
   "codemirror_mode": {
    "name": "ipython",
    "version": 3
   },
   "file_extension": ".py",
   "mimetype": "text/x-python",
   "name": "python",
   "nbconvert_exporter": "python",
   "pygments_lexer": "ipython3",
   "version": "3.10.6"
  },
  "vscode": {
   "interpreter": {
    "hash": "916dbcbb3f70747c44a77c7bcd40155683ae19c65e1c03b4aa3499c5328201f1"
   }
  }
 },
 "nbformat": 4,
 "nbformat_minor": 2
}
